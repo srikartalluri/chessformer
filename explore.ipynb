{
 "cells": [
  {
   "cell_type": "code",
   "execution_count": 2,
   "metadata": {},
   "outputs": [],
   "source": [
    "import chess\n",
    "import numpy as np\n",
    "from dataa import ChessDataset\n",
    "import chess.pgn\n",
    "from tokenizer import ChessTokenizer\n",
    "from torch.utils.data import DataLoader, TensorDataset, Dataset\n",
    "import sys"
   ]
  },
  {
   "cell_type": "code",
   "execution_count": 8,
   "metadata": {},
   "outputs": [
    {
     "name": "stdout",
     "output_type": "stream",
     "text": [
      "Number of games: 19686\n"
     ]
    },
    {
     "data": {
      "text/plain": [
       "1883"
      ]
     },
     "execution_count": 8,
     "metadata": {},
     "output_type": "execute_result"
    }
   ],
   "source": [
    "num_games = 0\n",
    "\n",
    "all_moves = set()\n",
    "\n",
    "with open(\"./data/games2023good.pgn\") as pgn_file:\n",
    "    while True:\n",
    "        game = chess.pgn.read_game(pgn_file)\n",
    "\n",
    "        \n",
    "\n",
    "        if game is None:\n",
    "            break\n",
    "            \n",
    "        for move in game.mainline_moves():\n",
    "            all_moves.add(str(move))\n",
    "        \n",
    "        num_games += 1\n",
    "\n",
    "print(f\"Number of games: {num_games}\")\n",
    "\n",
    "len(all_moves)"
   ]
  },
  {
   "cell_type": "code",
   "execution_count": null,
   "metadata": {},
   "outputs": [],
   "source": []
  }
 ],
 "metadata": {
  "kernelspec": {
   "display_name": "Python 3",
   "language": "python",
   "name": "python3"
  },
  "language_info": {
   "codemirror_mode": {
    "name": "ipython",
    "version": 3
   },
   "file_extension": ".py",
   "mimetype": "text/x-python",
   "name": "python",
   "nbconvert_exporter": "python",
   "pygments_lexer": "ipython3",
   "version": "3.12.3"
  }
 },
 "nbformat": 4,
 "nbformat_minor": 2
}
