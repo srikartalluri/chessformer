{
 "cells": [
  {
   "cell_type": "code",
   "execution_count": 1,
   "metadata": {},
   "outputs": [],
   "source": [
    "# import berserk\n",
    "import threading  # To handle multiple games concurrently\n",
    "\n",
    "\n",
    "# session = berserk.TokenSession(\"lip_9J9hHE4WhMf5AvIVexDf\")\n",
    "# client = berserk.Client(session)\n",
    "\n",
    "import berserk\n",
    "import time\n",
    "from stockfish import Stockfish\n",
    "import chess\n",
    "from tokenizer import ChessTokenizer\n",
    "import torch\n",
    "import torch.nn as nn\n",
    "from model import ChessGPTModel\n",
    "from engine import Engine\n",
    "from transformers import GPT2Config\n",
    "\n",
    "stockfish = Stockfish(\"/opt/homebrew/bin/stockfish\")  # Adjust path to your Stockfish installation\n",
    "mps_device = torch.device(\"mps\")"
   ]
  },
  {
   "cell_type": "code",
   "execution_count": 2,
   "metadata": {},
   "outputs": [],
   "source": [
    "hidden_size = 512\n",
    "seq_len = 256\n",
    "n_layer = 12\n",
    "n_head = 8\n",
    "tok = ChessTokenizer()\n",
    "vocab_size = tok.vocabulary_size() #1971\n",
    "config = GPT2Config(vocab_size=vocab_size, n_positions=seq_len, n_ctx=seq_len, n_embd=hidden_size, n_layer=n_layer, n_head=n_head)\n",
    "\n",
    "engine = Engine(\"./modelv1.pth\", config)"
   ]
  },
  {
   "cell_type": "code",
   "execution_count": null,
   "metadata": {},
   "outputs": [],
   "source": []
  }
 ],
 "metadata": {
  "kernelspec": {
   "display_name": "Python 3",
   "language": "python",
   "name": "python3"
  },
  "language_info": {
   "codemirror_mode": {
    "name": "ipython",
    "version": 3
   },
   "file_extension": ".py",
   "mimetype": "text/x-python",
   "name": "python",
   "nbconvert_exporter": "python",
   "pygments_lexer": "ipython3",
   "version": "3.12.3"
  }
 },
 "nbformat": 4,
 "nbformat_minor": 2
}
