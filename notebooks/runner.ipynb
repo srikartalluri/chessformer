{
 "cells": [
  {
   "cell_type": "code",
   "execution_count": 1,
   "metadata": {},
   "outputs": [
    {
     "data": {
      "text/plain": [
       "True"
      ]
     },
     "execution_count": 1,
     "metadata": {},
     "output_type": "execute_result"
    }
   ],
   "source": [
    "from dotenv import load_dotenv\n",
    "import os\n",
    "load_dotenv()"
   ]
  },
  {
   "cell_type": "code",
   "execution_count": 2,
   "metadata": {},
   "outputs": [
    {
     "data": {
      "text/plain": [
       "'lip_9J9hHE4WhMf5AvIVexDf'"
      ]
     },
     "execution_count": 2,
     "metadata": {},
     "output_type": "execute_result"
    }
   ],
   "source": [
    "lichess_key = os.getenv('LICHESS_KEY')\n",
    "lichess_key"
   ]
  },
  {
   "cell_type": "code",
   "execution_count": 4,
   "metadata": {},
   "outputs": [
    {
     "ename": "ModuleNotFoundError",
     "evalue": "No module named 'berserk'",
     "output_type": "error",
     "traceback": [
      "\u001b[0;31m---------------------------------------------------------------------------\u001b[0m",
      "\u001b[0;31mModuleNotFoundError\u001b[0m                       Traceback (most recent call last)",
      "Cell \u001b[0;32mIn[4], line 1\u001b[0m\n\u001b[0;32m----> 1\u001b[0m \u001b[38;5;28;01mimport\u001b[39;00m \u001b[38;5;21;01mberserk\u001b[39;00m\n\u001b[1;32m      2\u001b[0m \u001b[38;5;28;01mimport\u001b[39;00m \u001b[38;5;21;01mthreading\u001b[39;00m  \u001b[38;5;66;03m# To handle multiple games concurrently\u001b[39;00m\n\u001b[1;32m      6\u001b[0m session \u001b[38;5;241m=\u001b[39m berserk\u001b[38;5;241m.\u001b[39mTokenSession(lichess_key)\n",
      "\u001b[0;31mModuleNotFoundError\u001b[0m: No module named 'berserk'"
     ]
    }
   ],
   "source": [
    "import berserk\n",
    "import threading  # To handle multiple games concurrently\n",
    "\n",
    "\n",
    "\n",
    "session = berserk.TokenSession(lichess_key)\n",
    "client = berserk.Client(session)\n",
    "\n",
    "import berserk\n",
    "import time\n",
    "from stockfish import Stockfish\n",
    "import chess\n",
    "from tokenizer import ChessTokenizer\n",
    "import torch\n",
    "import torch.nn as nn\n",
    "from model import ChessGPTModel\n",
    "from engine import Engine\n",
    "from transformers import GPT2Config\n"
   ]
  },
  {
   "cell_type": "code",
   "execution_count": 12,
   "metadata": {},
   "outputs": [],
   "source": [
    "stockfish = Stockfish(\"/opt/homebrew/bin/stockfish\")  # Adjust path to your Stockfish installation\n",
    "mps_device = torch.device(\"mps\")\n",
    "stockfish.set_elo_rating(100)"
   ]
  },
  {
   "cell_type": "code",
   "execution_count": 13,
   "metadata": {},
   "outputs": [],
   "source": [
    "hidden_size = 512\n",
    "seq_len = 256\n",
    "n_layer = 12\n",
    "n_head = 8\n",
    "tok = ChessTokenizer()\n",
    "vocab_size = tok.vocabulary_size() #1971\n",
    "config = GPT2Config(vocab_size=vocab_size, n_positions=seq_len, n_ctx=seq_len, n_embd=hidden_size, n_layer=n_layer, n_head=n_head)\n",
    "\n",
    "engine = Engine(\"./modelv1.pth\", config)"
   ]
  },
  {
   "cell_type": "code",
   "execution_count": 14,
   "metadata": {},
   "outputs": [],
   "source": [
    "def play_game(game_id):\n",
    "    print(f\"Playing game {game_id}\")\n",
    "    # Listen to events within the game\n",
    "    for event in client.bots.stream_game_state(game_id):\n",
    "        print(event)\n",
    "        if event['type'] == 'gameFull' or event['type'] == 'gameState':\n",
    "            \n",
    "            if event['type'] == 'gameFull':\n",
    "                # Get the initial board position\n",
    "                moves = event['state']['moves']\n",
    "            else:\n",
    "                moves = event['moves']\n",
    "\n",
    "            moves = moves.split()\n",
    "\n",
    "            our_turn = 0\n",
    "            # if event[\"\"]\n",
    "\n",
    "            if len(moves) % 2 == 0:  # It's our turn if the move list is even\n",
    "                # Set the board position for Stockfish\n",
    "\n",
    "                print(moves)\n",
    "                \n",
    "                stockfish.set_position(moves)\n",
    "                # Get the best move from Stockfish\n",
    "                best_move = stockfish.get_best_move()\n",
    "\n",
    "                # next_movee = engine.get_next_move(moves)\n",
    "\n",
    "                print(best_move)\n",
    "\n",
    "                print(f\"Playing move {best_move}\")\n",
    "\n",
    "                # Play the move on Lichess\n",
    "                client.bots.make_move(game_id, best_move)"
   ]
  },
  {
   "cell_type": "code",
   "execution_count": 15,
   "metadata": {},
   "outputs": [
    {
     "name": "stdout",
     "output_type": "stream",
     "text": [
      "start loop\n",
      "challenge_incoming\n",
      "Playing game pQLAJDPc\n",
      "{'id': 'pQLAJDPc', 'variant': {'key': 'standard', 'name': 'Standard', 'short': 'Std'}, 'speed': 'correspondence', 'perf': {'name': 'Correspondence'}, 'rated': False, 'createdAt': datetime.datetime(2024, 12, 27, 20, 46, 46, 275000, tzinfo=datetime.timezone.utc), 'white': {'id': 'srikar_bot', 'name': 'srikar_bot', 'title': 'BOT', 'rating': 2000, 'provisional': True}, 'black': {'id': 'tallurium', 'name': 'tallurium', 'title': None, 'rating': 1500, 'provisional': True}, 'initialFen': 'startpos', 'type': 'gameFull', 'state': {'type': 'gameState', 'moves': '', 'wtime': 2147483647, 'btime': 2147483647, 'winc': 0, 'binc': 0, 'status': 'started'}}\n",
      "[]\n",
      "c2c4\n",
      "Playing move c2c4\n",
      "{'type': 'gameState', 'moves': 'c2c4', 'wtime': datetime.datetime(1970, 1, 25, 20, 31, 23, 647000, tzinfo=datetime.timezone.utc), 'btime': datetime.datetime(1970, 1, 25, 20, 31, 23, 647000, tzinfo=datetime.timezone.utc), 'winc': datetime.datetime(1970, 1, 1, 0, 0, tzinfo=datetime.timezone.utc), 'binc': datetime.datetime(1970, 1, 1, 0, 0, tzinfo=datetime.timezone.utc), 'status': 'started'}\n",
      "{'type': 'gameState', 'moves': 'c2c4 d7d5', 'wtime': datetime.datetime(1970, 1, 25, 20, 31, 23, 647000, tzinfo=datetime.timezone.utc), 'btime': datetime.datetime(1970, 1, 25, 20, 31, 23, 647000, tzinfo=datetime.timezone.utc), 'winc': datetime.datetime(1970, 1, 1, 0, 0, tzinfo=datetime.timezone.utc), 'binc': datetime.datetime(1970, 1, 1, 0, 0, tzinfo=datetime.timezone.utc), 'status': 'started'}\n",
      "['c2c4', 'd7d5']\n",
      "g1f3\n",
      "Playing move g1f3\n",
      "{'type': 'gameState', 'moves': 'c2c4 d7d5 g1f3', 'wtime': datetime.datetime(1970, 1, 25, 20, 31, 23, 647000, tzinfo=datetime.timezone.utc), 'btime': datetime.datetime(1970, 1, 25, 20, 31, 23, 647000, tzinfo=datetime.timezone.utc), 'winc': datetime.datetime(1970, 1, 1, 0, 0, tzinfo=datetime.timezone.utc), 'binc': datetime.datetime(1970, 1, 1, 0, 0, tzinfo=datetime.timezone.utc), 'status': 'started'}\n",
      "{'type': 'gameState', 'moves': 'c2c4 d7d5 g1f3 d5c4', 'wtime': datetime.datetime(1970, 1, 25, 20, 31, 23, 647000, tzinfo=datetime.timezone.utc), 'btime': datetime.datetime(1970, 1, 25, 20, 31, 23, 647000, tzinfo=datetime.timezone.utc), 'winc': datetime.datetime(1970, 1, 1, 0, 0, tzinfo=datetime.timezone.utc), 'binc': datetime.datetime(1970, 1, 1, 0, 0, tzinfo=datetime.timezone.utc), 'status': 'started'}\n",
      "['c2c4', 'd7d5', 'g1f3', 'd5c4']\n",
      "e2e4\n",
      "Playing move e2e4\n",
      "{'type': 'gameState', 'moves': 'c2c4 d7d5 g1f3 d5c4 e2e4', 'wtime': datetime.datetime(1970, 1, 25, 20, 31, 23, 647000, tzinfo=datetime.timezone.utc), 'btime': datetime.datetime(1970, 1, 25, 20, 31, 23, 647000, tzinfo=datetime.timezone.utc), 'winc': datetime.datetime(1970, 1, 1, 0, 0, tzinfo=datetime.timezone.utc), 'binc': datetime.datetime(1970, 1, 1, 0, 0, tzinfo=datetime.timezone.utc), 'status': 'started'}\n",
      "{'type': 'gameState', 'moves': 'c2c4 d7d5 g1f3 d5c4 e2e4 c8d7', 'wtime': datetime.datetime(1970, 1, 25, 20, 31, 23, 647000, tzinfo=datetime.timezone.utc), 'btime': datetime.datetime(1970, 1, 25, 20, 31, 23, 647000, tzinfo=datetime.timezone.utc), 'winc': datetime.datetime(1970, 1, 1, 0, 0, tzinfo=datetime.timezone.utc), 'binc': datetime.datetime(1970, 1, 1, 0, 0, tzinfo=datetime.timezone.utc), 'status': 'started'}\n",
      "['c2c4', 'd7d5', 'g1f3', 'd5c4', 'e2e4', 'c8d7']\n",
      "d2d4\n",
      "Playing move d2d4\n",
      "{'type': 'gameState', 'moves': 'c2c4 d7d5 g1f3 d5c4 e2e4 c8d7 d2d4', 'wtime': datetime.datetime(1970, 1, 25, 20, 31, 23, 647000, tzinfo=datetime.timezone.utc), 'btime': datetime.datetime(1970, 1, 25, 20, 31, 23, 647000, tzinfo=datetime.timezone.utc), 'winc': datetime.datetime(1970, 1, 1, 0, 0, tzinfo=datetime.timezone.utc), 'binc': datetime.datetime(1970, 1, 1, 0, 0, tzinfo=datetime.timezone.utc), 'status': 'started'}\n",
      "{'type': 'gameState', 'moves': 'c2c4 d7d5 g1f3 d5c4 e2e4 c8d7 d2d4 e7e6', 'wtime': datetime.datetime(1970, 1, 25, 20, 31, 23, 647000, tzinfo=datetime.timezone.utc), 'btime': datetime.datetime(1970, 1, 25, 20, 31, 23, 647000, tzinfo=datetime.timezone.utc), 'winc': datetime.datetime(1970, 1, 1, 0, 0, tzinfo=datetime.timezone.utc), 'binc': datetime.datetime(1970, 1, 1, 0, 0, tzinfo=datetime.timezone.utc), 'status': 'started'}\n",
      "['c2c4', 'd7d5', 'g1f3', 'd5c4', 'e2e4', 'c8d7', 'd2d4', 'e7e6']\n",
      "f1c4\n",
      "Playing move f1c4\n",
      "{'type': 'gameState', 'moves': 'c2c4 d7d5 g1f3 d5c4 e2e4 c8d7 d2d4 e7e6 f1c4', 'wtime': datetime.datetime(1970, 1, 25, 20, 31, 23, 647000, tzinfo=datetime.timezone.utc), 'btime': datetime.datetime(1970, 1, 25, 20, 31, 23, 647000, tzinfo=datetime.timezone.utc), 'winc': datetime.datetime(1970, 1, 1, 0, 0, tzinfo=datetime.timezone.utc), 'binc': datetime.datetime(1970, 1, 1, 0, 0, tzinfo=datetime.timezone.utc), 'status': 'started'}\n",
      "{'type': 'gameState', 'moves': 'c2c4 d7d5 g1f3 d5c4 e2e4 c8d7 d2d4 e7e6 f1c4 f8b4', 'wtime': datetime.datetime(1970, 1, 25, 20, 31, 23, 647000, tzinfo=datetime.timezone.utc), 'btime': datetime.datetime(1970, 1, 25, 20, 31, 23, 647000, tzinfo=datetime.timezone.utc), 'winc': datetime.datetime(1970, 1, 1, 0, 0, tzinfo=datetime.timezone.utc), 'binc': datetime.datetime(1970, 1, 1, 0, 0, tzinfo=datetime.timezone.utc), 'status': 'started'}\n",
      "['c2c4', 'd7d5', 'g1f3', 'd5c4', 'e2e4', 'c8d7', 'd2d4', 'e7e6', 'f1c4', 'f8b4']\n",
      "b1c3\n",
      "Playing move b1c3\n",
      "{'type': 'gameState', 'moves': 'c2c4 d7d5 g1f3 d5c4 e2e4 c8d7 d2d4 e7e6 f1c4 f8b4 b1c3', 'wtime': datetime.datetime(1970, 1, 25, 20, 31, 23, 647000, tzinfo=datetime.timezone.utc), 'btime': datetime.datetime(1970, 1, 25, 20, 31, 23, 647000, tzinfo=datetime.timezone.utc), 'winc': datetime.datetime(1970, 1, 1, 0, 0, tzinfo=datetime.timezone.utc), 'binc': datetime.datetime(1970, 1, 1, 0, 0, tzinfo=datetime.timezone.utc), 'status': 'started'}\n",
      "{'type': 'gameState', 'moves': 'c2c4 d7d5 g1f3 d5c4 e2e4 c8d7 d2d4 e7e6 f1c4 f8b4 b1c3 g8f6', 'wtime': datetime.datetime(1970, 1, 25, 20, 31, 23, 647000, tzinfo=datetime.timezone.utc), 'btime': datetime.datetime(1970, 1, 25, 20, 31, 23, 647000, tzinfo=datetime.timezone.utc), 'winc': datetime.datetime(1970, 1, 1, 0, 0, tzinfo=datetime.timezone.utc), 'binc': datetime.datetime(1970, 1, 1, 0, 0, tzinfo=datetime.timezone.utc), 'status': 'started'}\n",
      "['c2c4', 'd7d5', 'g1f3', 'd5c4', 'e2e4', 'c8d7', 'd2d4', 'e7e6', 'f1c4', 'f8b4', 'b1c3', 'g8f6']\n",
      "d1d3\n",
      "Playing move d1d3\n",
      "{'type': 'gameState', 'moves': 'c2c4 d7d5 g1f3 d5c4 e2e4 c8d7 d2d4 e7e6 f1c4 f8b4 b1c3 g8f6 d1d3', 'wtime': datetime.datetime(1970, 1, 25, 20, 31, 23, 647000, tzinfo=datetime.timezone.utc), 'btime': datetime.datetime(1970, 1, 25, 20, 31, 23, 647000, tzinfo=datetime.timezone.utc), 'winc': datetime.datetime(1970, 1, 1, 0, 0, tzinfo=datetime.timezone.utc), 'binc': datetime.datetime(1970, 1, 1, 0, 0, tzinfo=datetime.timezone.utc), 'status': 'started'}\n",
      "{'type': 'gameState', 'moves': 'c2c4 d7d5 g1f3 d5c4 e2e4 c8d7 d2d4 e7e6 f1c4 f8b4 b1c3 g8f6 d1d3 b4c3', 'wtime': datetime.datetime(1970, 1, 25, 20, 31, 23, 647000, tzinfo=datetime.timezone.utc), 'btime': datetime.datetime(1970, 1, 25, 20, 31, 23, 647000, tzinfo=datetime.timezone.utc), 'winc': datetime.datetime(1970, 1, 1, 0, 0, tzinfo=datetime.timezone.utc), 'binc': datetime.datetime(1970, 1, 1, 0, 0, tzinfo=datetime.timezone.utc), 'status': 'started'}\n",
      "['c2c4', 'd7d5', 'g1f3', 'd5c4', 'e2e4', 'c8d7', 'd2d4', 'e7e6', 'f1c4', 'f8b4', 'b1c3', 'g8f6', 'd1d3', 'b4c3']\n",
      "e1f1\n",
      "Playing move e1f1\n",
      "{'type': 'gameState', 'moves': 'c2c4 d7d5 g1f3 d5c4 e2e4 c8d7 d2d4 e7e6 f1c4 f8b4 b1c3 g8f6 d1d3 b4c3 e1f1', 'wtime': datetime.datetime(1970, 1, 25, 20, 31, 23, 647000, tzinfo=datetime.timezone.utc), 'btime': datetime.datetime(1970, 1, 25, 20, 31, 23, 647000, tzinfo=datetime.timezone.utc), 'winc': datetime.datetime(1970, 1, 1, 0, 0, tzinfo=datetime.timezone.utc), 'binc': datetime.datetime(1970, 1, 1, 0, 0, tzinfo=datetime.timezone.utc), 'status': 'started'}\n",
      "{'type': 'gameState', 'moves': 'c2c4 d7d5 g1f3 d5c4 e2e4 c8d7 d2d4 e7e6 f1c4 f8b4 b1c3 g8f6 d1d3 b4c3 e1f1 c3b4', 'wtime': datetime.datetime(1970, 1, 25, 20, 31, 23, 647000, tzinfo=datetime.timezone.utc), 'btime': datetime.datetime(1970, 1, 25, 20, 31, 23, 647000, tzinfo=datetime.timezone.utc), 'winc': datetime.datetime(1970, 1, 1, 0, 0, tzinfo=datetime.timezone.utc), 'binc': datetime.datetime(1970, 1, 1, 0, 0, tzinfo=datetime.timezone.utc), 'status': 'started'}\n",
      "['c2c4', 'd7d5', 'g1f3', 'd5c4', 'e2e4', 'c8d7', 'd2d4', 'e7e6', 'f1c4', 'f8b4', 'b1c3', 'g8f6', 'd1d3', 'b4c3', 'e1f1', 'c3b4']\n",
      "c1g5\n",
      "Playing move c1g5\n",
      "{'type': 'gameState', 'moves': 'c2c4 d7d5 g1f3 d5c4 e2e4 c8d7 d2d4 e7e6 f1c4 f8b4 b1c3 g8f6 d1d3 b4c3 e1f1 c3b4 c1g5', 'wtime': datetime.datetime(1970, 1, 25, 20, 31, 23, 647000, tzinfo=datetime.timezone.utc), 'btime': datetime.datetime(1970, 1, 25, 20, 31, 23, 647000, tzinfo=datetime.timezone.utc), 'winc': datetime.datetime(1970, 1, 1, 0, 0, tzinfo=datetime.timezone.utc), 'binc': datetime.datetime(1970, 1, 1, 0, 0, tzinfo=datetime.timezone.utc), 'status': 'started'}\n",
      "{'type': 'gameState', 'moves': 'c2c4 d7d5 g1f3 d5c4 e2e4 c8d7 d2d4 e7e6 f1c4 f8b4 b1c3 g8f6 d1d3 b4c3 e1f1 c3b4 c1g5 b4e7', 'wtime': datetime.datetime(1970, 1, 25, 20, 31, 23, 647000, tzinfo=datetime.timezone.utc), 'btime': datetime.datetime(1970, 1, 25, 20, 31, 23, 647000, tzinfo=datetime.timezone.utc), 'winc': datetime.datetime(1970, 1, 1, 0, 0, tzinfo=datetime.timezone.utc), 'binc': datetime.datetime(1970, 1, 1, 0, 0, tzinfo=datetime.timezone.utc), 'status': 'started'}\n",
      "['c2c4', 'd7d5', 'g1f3', 'd5c4', 'e2e4', 'c8d7', 'd2d4', 'e7e6', 'f1c4', 'f8b4', 'b1c3', 'g8f6', 'd1d3', 'b4c3', 'e1f1', 'c3b4', 'c1g5', 'b4e7']\n",
      "a1d1\n",
      "Playing move a1d1\n",
      "{'type': 'gameState', 'moves': 'c2c4 d7d5 g1f3 d5c4 e2e4 c8d7 d2d4 e7e6 f1c4 f8b4 b1c3 g8f6 d1d3 b4c3 e1f1 c3b4 c1g5 b4e7 a1d1', 'wtime': datetime.datetime(1970, 1, 25, 20, 31, 23, 647000, tzinfo=datetime.timezone.utc), 'btime': datetime.datetime(1970, 1, 25, 20, 31, 23, 647000, tzinfo=datetime.timezone.utc), 'winc': datetime.datetime(1970, 1, 1, 0, 0, tzinfo=datetime.timezone.utc), 'binc': datetime.datetime(1970, 1, 1, 0, 0, tzinfo=datetime.timezone.utc), 'status': 'started'}\n",
      "{'type': 'gameState', 'moves': 'c2c4 d7d5 g1f3 d5c4 e2e4 c8d7 d2d4 e7e6 f1c4 f8b4 b1c3 g8f6 d1d3 b4c3 e1f1 c3b4 c1g5 b4e7 a1d1 h7h6', 'wtime': datetime.datetime(1970, 1, 25, 20, 31, 23, 647000, tzinfo=datetime.timezone.utc), 'btime': datetime.datetime(1970, 1, 25, 20, 31, 23, 647000, tzinfo=datetime.timezone.utc), 'winc': datetime.datetime(1970, 1, 1, 0, 0, tzinfo=datetime.timezone.utc), 'binc': datetime.datetime(1970, 1, 1, 0, 0, tzinfo=datetime.timezone.utc), 'status': 'started'}\n",
      "['c2c4', 'd7d5', 'g1f3', 'd5c4', 'e2e4', 'c8d7', 'd2d4', 'e7e6', 'f1c4', 'f8b4', 'b1c3', 'g8f6', 'd1d3', 'b4c3', 'e1f1', 'c3b4', 'c1g5', 'b4e7', 'a1d1', 'h7h6']\n",
      "g5c1\n",
      "Playing move g5c1\n",
      "{'type': 'gameState', 'moves': 'c2c4 d7d5 g1f3 d5c4 e2e4 c8d7 d2d4 e7e6 f1c4 f8b4 b1c3 g8f6 d1d3 b4c3 e1f1 c3b4 c1g5 b4e7 a1d1 h7h6 g5c1', 'wtime': datetime.datetime(1970, 1, 25, 20, 31, 23, 647000, tzinfo=datetime.timezone.utc), 'btime': datetime.datetime(1970, 1, 25, 20, 31, 23, 647000, tzinfo=datetime.timezone.utc), 'winc': datetime.datetime(1970, 1, 1, 0, 0, tzinfo=datetime.timezone.utc), 'binc': datetime.datetime(1970, 1, 1, 0, 0, tzinfo=datetime.timezone.utc), 'status': 'started'}\n",
      "{'type': 'gameState', 'moves': 'c2c4 d7d5 g1f3 d5c4 e2e4 c8d7 d2d4 e7e6 f1c4 f8b4 b1c3 g8f6 d1d3 b4c3 e1f1 c3b4 c1g5 b4e7 a1d1 h7h6 g5c1 d7c6', 'wtime': datetime.datetime(1970, 1, 25, 20, 31, 23, 647000, tzinfo=datetime.timezone.utc), 'btime': datetime.datetime(1970, 1, 25, 20, 31, 23, 647000, tzinfo=datetime.timezone.utc), 'winc': datetime.datetime(1970, 1, 1, 0, 0, tzinfo=datetime.timezone.utc), 'binc': datetime.datetime(1970, 1, 1, 0, 0, tzinfo=datetime.timezone.utc), 'status': 'started'}\n",
      "['c2c4', 'd7d5', 'g1f3', 'd5c4', 'e2e4', 'c8d7', 'd2d4', 'e7e6', 'f1c4', 'f8b4', 'b1c3', 'g8f6', 'd1d3', 'b4c3', 'e1f1', 'c3b4', 'c1g5', 'b4e7', 'a1d1', 'h7h6', 'g5c1', 'd7c6']\n",
      "d4d5\n",
      "Playing move d4d5\n",
      "{'type': 'gameState', 'moves': 'c2c4 d7d5 g1f3 d5c4 e2e4 c8d7 d2d4 e7e6 f1c4 f8b4 b1c3 g8f6 d1d3 b4c3 e1f1 c3b4 c1g5 b4e7 a1d1 h7h6 g5c1 d7c6 d4d5', 'wtime': datetime.datetime(1970, 1, 25, 20, 31, 23, 647000, tzinfo=datetime.timezone.utc), 'btime': datetime.datetime(1970, 1, 25, 20, 31, 23, 647000, tzinfo=datetime.timezone.utc), 'winc': datetime.datetime(1970, 1, 1, 0, 0, tzinfo=datetime.timezone.utc), 'binc': datetime.datetime(1970, 1, 1, 0, 0, tzinfo=datetime.timezone.utc), 'status': 'started'}\n",
      "{'type': 'gameState', 'moves': 'c2c4 d7d5 g1f3 d5c4 e2e4 c8d7 d2d4 e7e6 f1c4 f8b4 b1c3 g8f6 d1d3 b4c3 e1f1 c3b4 c1g5 b4e7 a1d1 h7h6 g5c1 d7c6 d4d5 e6d5', 'wtime': datetime.datetime(1970, 1, 25, 20, 31, 23, 647000, tzinfo=datetime.timezone.utc), 'btime': datetime.datetime(1970, 1, 25, 20, 31, 23, 647000, tzinfo=datetime.timezone.utc), 'winc': datetime.datetime(1970, 1, 1, 0, 0, tzinfo=datetime.timezone.utc), 'binc': datetime.datetime(1970, 1, 1, 0, 0, tzinfo=datetime.timezone.utc), 'status': 'started'}\n",
      "['c2c4', 'd7d5', 'g1f3', 'd5c4', 'e2e4', 'c8d7', 'd2d4', 'e7e6', 'f1c4', 'f8b4', 'b1c3', 'g8f6', 'd1d3', 'b4c3', 'e1f1', 'c3b4', 'c1g5', 'b4e7', 'a1d1', 'h7h6', 'g5c1', 'd7c6', 'd4d5', 'e6d5']\n",
      "e4d5\n",
      "Playing move e4d5\n",
      "{'type': 'gameState', 'moves': 'c2c4 d7d5 g1f3 d5c4 e2e4 c8d7 d2d4 e7e6 f1c4 f8b4 b1c3 g8f6 d1d3 b4c3 e1f1 c3b4 c1g5 b4e7 a1d1 h7h6 g5c1 d7c6 d4d5 e6d5 e4d5', 'wtime': datetime.datetime(1970, 1, 25, 20, 31, 23, 647000, tzinfo=datetime.timezone.utc), 'btime': datetime.datetime(1970, 1, 25, 20, 31, 23, 647000, tzinfo=datetime.timezone.utc), 'winc': datetime.datetime(1970, 1, 1, 0, 0, tzinfo=datetime.timezone.utc), 'binc': datetime.datetime(1970, 1, 1, 0, 0, tzinfo=datetime.timezone.utc), 'status': 'started'}\n",
      "{'type': 'gameState', 'moves': 'c2c4 d7d5 g1f3 d5c4 e2e4 c8d7 d2d4 e7e6 f1c4 f8b4 b1c3 g8f6 d1d3 b4c3 e1f1 c3b4 c1g5 b4e7 a1d1 h7h6 g5c1 d7c6 d4d5 e6d5 e4d5 c6d7', 'wtime': datetime.datetime(1970, 1, 25, 20, 31, 23, 647000, tzinfo=datetime.timezone.utc), 'btime': datetime.datetime(1970, 1, 25, 20, 31, 23, 647000, tzinfo=datetime.timezone.utc), 'winc': datetime.datetime(1970, 1, 1, 0, 0, tzinfo=datetime.timezone.utc), 'binc': datetime.datetime(1970, 1, 1, 0, 0, tzinfo=datetime.timezone.utc), 'status': 'started'}\n",
      "['c2c4', 'd7d5', 'g1f3', 'd5c4', 'e2e4', 'c8d7', 'd2d4', 'e7e6', 'f1c4', 'f8b4', 'b1c3', 'g8f6', 'd1d3', 'b4c3', 'e1f1', 'c3b4', 'c1g5', 'b4e7', 'a1d1', 'h7h6', 'g5c1', 'd7c6', 'd4d5', 'e6d5', 'e4d5', 'c6d7']\n",
      "f3e5\n",
      "Playing move f3e5\n",
      "{'type': 'gameState', 'moves': 'c2c4 d7d5 g1f3 d5c4 e2e4 c8d7 d2d4 e7e6 f1c4 f8b4 b1c3 g8f6 d1d3 b4c3 e1f1 c3b4 c1g5 b4e7 a1d1 h7h6 g5c1 d7c6 d4d5 e6d5 e4d5 c6d7 f3e5', 'wtime': datetime.datetime(1970, 1, 25, 20, 31, 23, 647000, tzinfo=datetime.timezone.utc), 'btime': datetime.datetime(1970, 1, 25, 20, 31, 23, 647000, tzinfo=datetime.timezone.utc), 'winc': datetime.datetime(1970, 1, 1, 0, 0, tzinfo=datetime.timezone.utc), 'binc': datetime.datetime(1970, 1, 1, 0, 0, tzinfo=datetime.timezone.utc), 'status': 'started'}\n",
      "{'type': 'gameState', 'moves': 'c2c4 d7d5 g1f3 d5c4 e2e4 c8d7 d2d4 e7e6 f1c4 f8b4 b1c3 g8f6 d1d3 b4c3 e1f1 c3b4 c1g5 b4e7 a1d1 h7h6 g5c1 d7c6 d4d5 e6d5 e4d5 c6d7 f3e5 e8g8', 'wtime': datetime.datetime(1970, 1, 25, 20, 31, 23, 647000, tzinfo=datetime.timezone.utc), 'btime': datetime.datetime(1970, 1, 25, 20, 31, 23, 647000, tzinfo=datetime.timezone.utc), 'winc': datetime.datetime(1970, 1, 1, 0, 0, tzinfo=datetime.timezone.utc), 'binc': datetime.datetime(1970, 1, 1, 0, 0, tzinfo=datetime.timezone.utc), 'status': 'started'}\n",
      "['c2c4', 'd7d5', 'g1f3', 'd5c4', 'e2e4', 'c8d7', 'd2d4', 'e7e6', 'f1c4', 'f8b4', 'b1c3', 'g8f6', 'd1d3', 'b4c3', 'e1f1', 'c3b4', 'c1g5', 'b4e7', 'a1d1', 'h7h6', 'g5c1', 'd7c6', 'd4d5', 'e6d5', 'e4d5', 'c6d7', 'f3e5', 'e8g8']\n",
      "c1h6\n",
      "Playing move c1h6\n",
      "{'type': 'gameState', 'moves': 'c2c4 d7d5 g1f3 d5c4 e2e4 c8d7 d2d4 e7e6 f1c4 f8b4 b1c3 g8f6 d1d3 b4c3 e1f1 c3b4 c1g5 b4e7 a1d1 h7h6 g5c1 d7c6 d4d5 e6d5 e4d5 c6d7 f3e5 e8g8 c1h6', 'wtime': datetime.datetime(1970, 1, 25, 20, 31, 23, 647000, tzinfo=datetime.timezone.utc), 'btime': datetime.datetime(1970, 1, 25, 20, 31, 23, 647000, tzinfo=datetime.timezone.utc), 'winc': datetime.datetime(1970, 1, 1, 0, 0, tzinfo=datetime.timezone.utc), 'binc': datetime.datetime(1970, 1, 1, 0, 0, tzinfo=datetime.timezone.utc), 'status': 'started'}\n",
      "{'type': 'gameState', 'moves': 'c2c4 d7d5 g1f3 d5c4 e2e4 c8d7 d2d4 e7e6 f1c4 f8b4 b1c3 g8f6 d1d3 b4c3 e1f1 c3b4 c1g5 b4e7 a1d1 h7h6 g5c1 d7c6 d4d5 e6d5 e4d5 c6d7 f3e5 e8g8 c1h6 g7h6', 'wtime': datetime.datetime(1970, 1, 25, 20, 31, 23, 647000, tzinfo=datetime.timezone.utc), 'btime': datetime.datetime(1970, 1, 25, 20, 31, 23, 647000, tzinfo=datetime.timezone.utc), 'winc': datetime.datetime(1970, 1, 1, 0, 0, tzinfo=datetime.timezone.utc), 'binc': datetime.datetime(1970, 1, 1, 0, 0, tzinfo=datetime.timezone.utc), 'status': 'started'}\n",
      "['c2c4', 'd7d5', 'g1f3', 'd5c4', 'e2e4', 'c8d7', 'd2d4', 'e7e6', 'f1c4', 'f8b4', 'b1c3', 'g8f6', 'd1d3', 'b4c3', 'e1f1', 'c3b4', 'c1g5', 'b4e7', 'a1d1', 'h7h6', 'g5c1', 'd7c6', 'd4d5', 'e6d5', 'e4d5', 'c6d7', 'f3e5', 'e8g8', 'c1h6', 'g7h6']\n",
      "d5d6\n",
      "Playing move d5d6\n",
      "{'type': 'gameState', 'moves': 'c2c4 d7d5 g1f3 d5c4 e2e4 c8d7 d2d4 e7e6 f1c4 f8b4 b1c3 g8f6 d1d3 b4c3 e1f1 c3b4 c1g5 b4e7 a1d1 h7h6 g5c1 d7c6 d4d5 e6d5 e4d5 c6d7 f3e5 e8g8 c1h6 g7h6 d5d6', 'wtime': datetime.datetime(1970, 1, 25, 20, 31, 23, 647000, tzinfo=datetime.timezone.utc), 'btime': datetime.datetime(1970, 1, 25, 20, 31, 23, 647000, tzinfo=datetime.timezone.utc), 'winc': datetime.datetime(1970, 1, 1, 0, 0, tzinfo=datetime.timezone.utc), 'binc': datetime.datetime(1970, 1, 1, 0, 0, tzinfo=datetime.timezone.utc), 'status': 'started'}\n",
      "{'type': 'gameState', 'moves': 'c2c4 d7d5 g1f3 d5c4 e2e4 c8d7 d2d4 e7e6 f1c4 f8b4 b1c3 g8f6 d1d3 b4c3 e1f1 c3b4 c1g5 b4e7 a1d1 h7h6 g5c1 d7c6 d4d5 e6d5 e4d5 c6d7 f3e5 e8g8 c1h6 g7h6 d5d6', 'wtime': datetime.datetime(1970, 1, 25, 20, 31, 23, 647000, tzinfo=datetime.timezone.utc), 'btime': datetime.datetime(1970, 1, 25, 20, 31, 23, 647000, tzinfo=datetime.timezone.utc), 'winc': datetime.datetime(1970, 1, 1, 0, 0, tzinfo=datetime.timezone.utc), 'binc': datetime.datetime(1970, 1, 1, 0, 0, tzinfo=datetime.timezone.utc), 'status': 'resign', 'winner': 'white'}\n"
     ]
    },
    {
     "ename": "KeyboardInterrupt",
     "evalue": "",
     "output_type": "error",
     "traceback": [
      "\u001b[0;31m---------------------------------------------------------------------------\u001b[0m",
      "\u001b[0;31mKeyboardInterrupt\u001b[0m                         Traceback (most recent call last)",
      "Cell \u001b[0;32mIn[15], line 5\u001b[0m\n\u001b[1;32m      1\u001b[0m \u001b[38;5;28;01mwhile\u001b[39;00m \u001b[38;5;28;01mTrue\u001b[39;00m:\n\u001b[1;32m      3\u001b[0m     \u001b[38;5;28mprint\u001b[39m(\u001b[38;5;124m\"\u001b[39m\u001b[38;5;124mstart loop\u001b[39m\u001b[38;5;124m\"\u001b[39m)\n\u001b[0;32m----> 5\u001b[0m \u001b[43m    \u001b[49m\u001b[38;5;28;43;01mfor\u001b[39;49;00m\u001b[43m \u001b[49m\u001b[43mevent\u001b[49m\u001b[43m \u001b[49m\u001b[38;5;129;43;01min\u001b[39;49;00m\u001b[43m \u001b[49m\u001b[43mclient\u001b[49m\u001b[38;5;241;43m.\u001b[39;49m\u001b[43mbots\u001b[49m\u001b[38;5;241;43m.\u001b[39;49m\u001b[43mstream_incoming_events\u001b[49m\u001b[43m(\u001b[49m\u001b[43m)\u001b[49m\u001b[43m:\u001b[49m\n\u001b[1;32m      6\u001b[0m \u001b[43m        \u001b[49m\u001b[38;5;66;43;03m# print(event)\u001b[39;49;00m\n\u001b[1;32m      8\u001b[0m \u001b[43m        \u001b[49m\u001b[38;5;28;43;01mif\u001b[39;49;00m\u001b[43m \u001b[49m\u001b[43mevent\u001b[49m\u001b[43m[\u001b[49m\u001b[38;5;124;43m'\u001b[39;49m\u001b[38;5;124;43mtype\u001b[39;49m\u001b[38;5;124;43m'\u001b[39;49m\u001b[43m]\u001b[49m\u001b[43m \u001b[49m\u001b[38;5;241;43m==\u001b[39;49m\u001b[43m \u001b[49m\u001b[38;5;124;43m'\u001b[39;49m\u001b[38;5;124;43mchallenge\u001b[39;49m\u001b[38;5;124;43m'\u001b[39;49m\u001b[43m:\u001b[49m\n\u001b[1;32m      9\u001b[0m \u001b[43m            \u001b[49m\u001b[38;5;28;43mprint\u001b[39;49m\u001b[43m(\u001b[49m\u001b[38;5;124;43m\"\u001b[39;49m\u001b[38;5;124;43mchallenge_incoming\u001b[39;49m\u001b[38;5;124;43m\"\u001b[39;49m\u001b[43m)\u001b[49m\n",
      "File \u001b[0;32m/Library/Frameworks/Python.framework/Versions/3.12/lib/python3.12/site-packages/berserk/clients/bots.py:20\u001b[0m, in \u001b[0;36mBots.stream_incoming_events\u001b[0;34m(self)\u001b[0m\n\u001b[1;32m     15\u001b[0m \u001b[38;5;250m\u001b[39m\u001b[38;5;124;03m\"\"\"Get your realtime stream of incoming events.\u001b[39;00m\n\u001b[1;32m     16\u001b[0m \n\u001b[1;32m     17\u001b[0m \u001b[38;5;124;03m:return: stream of incoming events\u001b[39;00m\n\u001b[1;32m     18\u001b[0m \u001b[38;5;124;03m\"\"\"\u001b[39;00m\n\u001b[1;32m     19\u001b[0m path \u001b[38;5;241m=\u001b[39m \u001b[38;5;124m\"\u001b[39m\u001b[38;5;124m/api/stream/event\u001b[39m\u001b[38;5;124m\"\u001b[39m\n\u001b[0;32m---> 20\u001b[0m \u001b[38;5;28;01myield from\u001b[39;00m \u001b[38;5;28mself\u001b[39m\u001b[38;5;241m.\u001b[39m_r\u001b[38;5;241m.\u001b[39mget(path, stream\u001b[38;5;241m=\u001b[39m\u001b[38;5;28;01mTrue\u001b[39;00m)\n",
      "File \u001b[0;32m/Library/Frameworks/Python.framework/Versions/3.12/lib/python3.12/site-packages/berserk/formats.py:96\u001b[0m, in \u001b[0;36mJsonHandler.parse_stream\u001b[0;34m(self, response)\u001b[0m\n\u001b[1;32m     89\u001b[0m \u001b[38;5;28;01mdef\u001b[39;00m \u001b[38;5;21mparse_stream\u001b[39m(\u001b[38;5;28mself\u001b[39m, response: Response) \u001b[38;5;241m-\u001b[39m\u001b[38;5;241m>\u001b[39m Iterator[Dict[\u001b[38;5;28mstr\u001b[39m, Any]]:\n\u001b[1;32m     90\u001b[0m \u001b[38;5;250m    \u001b[39m\u001b[38;5;124;03m\"\"\"Yield the parsed data from a stream response.\u001b[39;00m\n\u001b[1;32m     91\u001b[0m \n\u001b[1;32m     92\u001b[0m \u001b[38;5;124;03m    :param response: raw response\u001b[39;00m\n\u001b[1;32m     93\u001b[0m \u001b[38;5;124;03m    :type response: :class:`requests.Response`\u001b[39;00m\n\u001b[1;32m     94\u001b[0m \u001b[38;5;124;03m    :return: iterator over multiple JSON objects\u001b[39;00m\n\u001b[1;32m     95\u001b[0m \u001b[38;5;124;03m    \"\"\"\u001b[39;00m\n\u001b[0;32m---> 96\u001b[0m \u001b[43m    \u001b[49m\u001b[38;5;28;43;01mfor\u001b[39;49;00m\u001b[43m \u001b[49m\u001b[43mline\u001b[49m\u001b[43m \u001b[49m\u001b[38;5;129;43;01min\u001b[39;49;00m\u001b[43m \u001b[49m\u001b[43mresponse\u001b[49m\u001b[38;5;241;43m.\u001b[39;49m\u001b[43miter_lines\u001b[49m\u001b[43m(\u001b[49m\u001b[43m)\u001b[49m\u001b[43m:\u001b[49m\n\u001b[1;32m     97\u001b[0m \u001b[43m        \u001b[49m\u001b[38;5;28;43;01mif\u001b[39;49;00m\u001b[43m \u001b[49m\u001b[43mline\u001b[49m\u001b[43m:\u001b[49m\n\u001b[1;32m     98\u001b[0m \u001b[43m            \u001b[49m\u001b[43mdecoded_line\u001b[49m\u001b[43m \u001b[49m\u001b[38;5;241;43m=\u001b[39;49m\u001b[43m \u001b[49m\u001b[43mline\u001b[49m\u001b[38;5;241;43m.\u001b[39;49m\u001b[43mdecode\u001b[49m\u001b[43m(\u001b[49m\u001b[38;5;124;43m\"\u001b[39;49m\u001b[38;5;124;43mutf-8\u001b[39;49m\u001b[38;5;124;43m\"\u001b[39;49m\u001b[43m)\u001b[49m\n",
      "File \u001b[0;32m/Library/Frameworks/Python.framework/Versions/3.12/lib/python3.12/site-packages/requests/models.py:869\u001b[0m, in \u001b[0;36mResponse.iter_lines\u001b[0;34m(self, chunk_size, decode_unicode, delimiter)\u001b[0m\n\u001b[1;32m    860\u001b[0m \u001b[38;5;250m\u001b[39m\u001b[38;5;124;03m\"\"\"Iterates over the response data, one line at a time.  When\u001b[39;00m\n\u001b[1;32m    861\u001b[0m \u001b[38;5;124;03mstream=True is set on the request, this avoids reading the\u001b[39;00m\n\u001b[1;32m    862\u001b[0m \u001b[38;5;124;03mcontent at once into memory for large responses.\u001b[39;00m\n\u001b[1;32m    863\u001b[0m \n\u001b[1;32m    864\u001b[0m \u001b[38;5;124;03m.. note:: This method is not reentrant safe.\u001b[39;00m\n\u001b[1;32m    865\u001b[0m \u001b[38;5;124;03m\"\"\"\u001b[39;00m\n\u001b[1;32m    867\u001b[0m pending \u001b[38;5;241m=\u001b[39m \u001b[38;5;28;01mNone\u001b[39;00m\n\u001b[0;32m--> 869\u001b[0m \u001b[43m\u001b[49m\u001b[38;5;28;43;01mfor\u001b[39;49;00m\u001b[43m \u001b[49m\u001b[43mchunk\u001b[49m\u001b[43m \u001b[49m\u001b[38;5;129;43;01min\u001b[39;49;00m\u001b[43m \u001b[49m\u001b[38;5;28;43mself\u001b[39;49m\u001b[38;5;241;43m.\u001b[39;49m\u001b[43miter_content\u001b[49m\u001b[43m(\u001b[49m\n\u001b[1;32m    870\u001b[0m \u001b[43m    \u001b[49m\u001b[43mchunk_size\u001b[49m\u001b[38;5;241;43m=\u001b[39;49m\u001b[43mchunk_size\u001b[49m\u001b[43m,\u001b[49m\u001b[43m \u001b[49m\u001b[43mdecode_unicode\u001b[49m\u001b[38;5;241;43m=\u001b[39;49m\u001b[43mdecode_unicode\u001b[49m\n\u001b[1;32m    871\u001b[0m \u001b[43m\u001b[49m\u001b[43m)\u001b[49m\u001b[43m:\u001b[49m\n\u001b[1;32m    872\u001b[0m \u001b[43m    \u001b[49m\u001b[38;5;28;43;01mif\u001b[39;49;00m\u001b[43m \u001b[49m\u001b[43mpending\u001b[49m\u001b[43m \u001b[49m\u001b[38;5;129;43;01mis\u001b[39;49;00m\u001b[43m \u001b[49m\u001b[38;5;129;43;01mnot\u001b[39;49;00m\u001b[43m \u001b[49m\u001b[38;5;28;43;01mNone\u001b[39;49;00m\u001b[43m:\u001b[49m\n\u001b[1;32m    873\u001b[0m \u001b[43m        \u001b[49m\u001b[43mchunk\u001b[49m\u001b[43m \u001b[49m\u001b[38;5;241;43m=\u001b[39;49m\u001b[43m \u001b[49m\u001b[43mpending\u001b[49m\u001b[43m \u001b[49m\u001b[38;5;241;43m+\u001b[39;49m\u001b[43m \u001b[49m\u001b[43mchunk\u001b[49m\n",
      "File \u001b[0;32m/Library/Frameworks/Python.framework/Versions/3.12/lib/python3.12/site-packages/requests/models.py:820\u001b[0m, in \u001b[0;36mResponse.iter_content.<locals>.generate\u001b[0;34m()\u001b[0m\n\u001b[1;32m    818\u001b[0m \u001b[38;5;28;01mif\u001b[39;00m \u001b[38;5;28mhasattr\u001b[39m(\u001b[38;5;28mself\u001b[39m\u001b[38;5;241m.\u001b[39mraw, \u001b[38;5;124m\"\u001b[39m\u001b[38;5;124mstream\u001b[39m\u001b[38;5;124m\"\u001b[39m):\n\u001b[1;32m    819\u001b[0m     \u001b[38;5;28;01mtry\u001b[39;00m:\n\u001b[0;32m--> 820\u001b[0m         \u001b[38;5;28;01myield from\u001b[39;00m \u001b[38;5;28mself\u001b[39m\u001b[38;5;241m.\u001b[39mraw\u001b[38;5;241m.\u001b[39mstream(chunk_size, decode_content\u001b[38;5;241m=\u001b[39m\u001b[38;5;28;01mTrue\u001b[39;00m)\n\u001b[1;32m    821\u001b[0m     \u001b[38;5;28;01mexcept\u001b[39;00m ProtocolError \u001b[38;5;28;01mas\u001b[39;00m e:\n\u001b[1;32m    822\u001b[0m         \u001b[38;5;28;01mraise\u001b[39;00m ChunkedEncodingError(e)\n",
      "File \u001b[0;32m/Library/Frameworks/Python.framework/Versions/3.12/lib/python3.12/site-packages/urllib3/response.py:1057\u001b[0m, in \u001b[0;36mHTTPResponse.stream\u001b[0;34m(self, amt, decode_content)\u001b[0m\n\u001b[1;32m   1041\u001b[0m \u001b[38;5;250m\u001b[39m\u001b[38;5;124;03m\"\"\"\u001b[39;00m\n\u001b[1;32m   1042\u001b[0m \u001b[38;5;124;03mA generator wrapper for the read() method. A call will block until\u001b[39;00m\n\u001b[1;32m   1043\u001b[0m \u001b[38;5;124;03m``amt`` bytes have been read from the connection or until the\u001b[39;00m\n\u001b[0;32m   (...)\u001b[0m\n\u001b[1;32m   1054\u001b[0m \u001b[38;5;124;03m    'content-encoding' header.\u001b[39;00m\n\u001b[1;32m   1055\u001b[0m \u001b[38;5;124;03m\"\"\"\u001b[39;00m\n\u001b[1;32m   1056\u001b[0m \u001b[38;5;28;01mif\u001b[39;00m \u001b[38;5;28mself\u001b[39m\u001b[38;5;241m.\u001b[39mchunked \u001b[38;5;129;01mand\u001b[39;00m \u001b[38;5;28mself\u001b[39m\u001b[38;5;241m.\u001b[39msupports_chunked_reads():\n\u001b[0;32m-> 1057\u001b[0m     \u001b[38;5;28;01myield from\u001b[39;00m \u001b[38;5;28mself\u001b[39m\u001b[38;5;241m.\u001b[39mread_chunked(amt, decode_content\u001b[38;5;241m=\u001b[39mdecode_content)\n\u001b[1;32m   1058\u001b[0m \u001b[38;5;28;01melse\u001b[39;00m:\n\u001b[1;32m   1059\u001b[0m     \u001b[38;5;28;01mwhile\u001b[39;00m \u001b[38;5;129;01mnot\u001b[39;00m is_fp_closed(\u001b[38;5;28mself\u001b[39m\u001b[38;5;241m.\u001b[39m_fp) \u001b[38;5;129;01mor\u001b[39;00m \u001b[38;5;28mlen\u001b[39m(\u001b[38;5;28mself\u001b[39m\u001b[38;5;241m.\u001b[39m_decoded_buffer) \u001b[38;5;241m>\u001b[39m \u001b[38;5;241m0\u001b[39m:\n",
      "File \u001b[0;32m/Library/Frameworks/Python.framework/Versions/3.12/lib/python3.12/site-packages/urllib3/response.py:1206\u001b[0m, in \u001b[0;36mHTTPResponse.read_chunked\u001b[0;34m(self, amt, decode_content)\u001b[0m\n\u001b[1;32m   1203\u001b[0m     amt \u001b[38;5;241m=\u001b[39m \u001b[38;5;28;01mNone\u001b[39;00m\n\u001b[1;32m   1205\u001b[0m \u001b[38;5;28;01mwhile\u001b[39;00m \u001b[38;5;28;01mTrue\u001b[39;00m:\n\u001b[0;32m-> 1206\u001b[0m     \u001b[38;5;28;43mself\u001b[39;49m\u001b[38;5;241;43m.\u001b[39;49m\u001b[43m_update_chunk_length\u001b[49m\u001b[43m(\u001b[49m\u001b[43m)\u001b[49m\n\u001b[1;32m   1207\u001b[0m     \u001b[38;5;28;01mif\u001b[39;00m \u001b[38;5;28mself\u001b[39m\u001b[38;5;241m.\u001b[39mchunk_left \u001b[38;5;241m==\u001b[39m \u001b[38;5;241m0\u001b[39m:\n\u001b[1;32m   1208\u001b[0m         \u001b[38;5;28;01mbreak\u001b[39;00m\n",
      "File \u001b[0;32m/Library/Frameworks/Python.framework/Versions/3.12/lib/python3.12/site-packages/urllib3/response.py:1125\u001b[0m, in \u001b[0;36mHTTPResponse._update_chunk_length\u001b[0;34m(self)\u001b[0m\n\u001b[1;32m   1123\u001b[0m \u001b[38;5;28;01mif\u001b[39;00m \u001b[38;5;28mself\u001b[39m\u001b[38;5;241m.\u001b[39mchunk_left \u001b[38;5;129;01mis\u001b[39;00m \u001b[38;5;129;01mnot\u001b[39;00m \u001b[38;5;28;01mNone\u001b[39;00m:\n\u001b[1;32m   1124\u001b[0m     \u001b[38;5;28;01mreturn\u001b[39;00m \u001b[38;5;28;01mNone\u001b[39;00m\n\u001b[0;32m-> 1125\u001b[0m line \u001b[38;5;241m=\u001b[39m \u001b[38;5;28;43mself\u001b[39;49m\u001b[38;5;241;43m.\u001b[39;49m\u001b[43m_fp\u001b[49m\u001b[38;5;241;43m.\u001b[39;49m\u001b[43mfp\u001b[49m\u001b[38;5;241;43m.\u001b[39;49m\u001b[43mreadline\u001b[49m\u001b[43m(\u001b[49m\u001b[43m)\u001b[49m  \u001b[38;5;66;03m# type: ignore[union-attr]\u001b[39;00m\n\u001b[1;32m   1126\u001b[0m line \u001b[38;5;241m=\u001b[39m line\u001b[38;5;241m.\u001b[39msplit(\u001b[38;5;124mb\u001b[39m\u001b[38;5;124m\"\u001b[39m\u001b[38;5;124m;\u001b[39m\u001b[38;5;124m\"\u001b[39m, \u001b[38;5;241m1\u001b[39m)[\u001b[38;5;241m0\u001b[39m]\n\u001b[1;32m   1127\u001b[0m \u001b[38;5;28;01mtry\u001b[39;00m:\n",
      "File \u001b[0;32m/Library/Frameworks/Python.framework/Versions/3.12/lib/python3.12/socket.py:707\u001b[0m, in \u001b[0;36mSocketIO.readinto\u001b[0;34m(self, b)\u001b[0m\n\u001b[1;32m    705\u001b[0m \u001b[38;5;28;01mwhile\u001b[39;00m \u001b[38;5;28;01mTrue\u001b[39;00m:\n\u001b[1;32m    706\u001b[0m     \u001b[38;5;28;01mtry\u001b[39;00m:\n\u001b[0;32m--> 707\u001b[0m         \u001b[38;5;28;01mreturn\u001b[39;00m \u001b[38;5;28;43mself\u001b[39;49m\u001b[38;5;241;43m.\u001b[39;49m\u001b[43m_sock\u001b[49m\u001b[38;5;241;43m.\u001b[39;49m\u001b[43mrecv_into\u001b[49m\u001b[43m(\u001b[49m\u001b[43mb\u001b[49m\u001b[43m)\u001b[49m\n\u001b[1;32m    708\u001b[0m     \u001b[38;5;28;01mexcept\u001b[39;00m timeout:\n\u001b[1;32m    709\u001b[0m         \u001b[38;5;28mself\u001b[39m\u001b[38;5;241m.\u001b[39m_timeout_occurred \u001b[38;5;241m=\u001b[39m \u001b[38;5;28;01mTrue\u001b[39;00m\n",
      "File \u001b[0;32m/Library/Frameworks/Python.framework/Versions/3.12/lib/python3.12/ssl.py:1252\u001b[0m, in \u001b[0;36mSSLSocket.recv_into\u001b[0;34m(self, buffer, nbytes, flags)\u001b[0m\n\u001b[1;32m   1248\u001b[0m     \u001b[38;5;28;01mif\u001b[39;00m flags \u001b[38;5;241m!=\u001b[39m \u001b[38;5;241m0\u001b[39m:\n\u001b[1;32m   1249\u001b[0m         \u001b[38;5;28;01mraise\u001b[39;00m \u001b[38;5;167;01mValueError\u001b[39;00m(\n\u001b[1;32m   1250\u001b[0m           \u001b[38;5;124m\"\u001b[39m\u001b[38;5;124mnon-zero flags not allowed in calls to recv_into() on \u001b[39m\u001b[38;5;132;01m%s\u001b[39;00m\u001b[38;5;124m\"\u001b[39m \u001b[38;5;241m%\u001b[39m\n\u001b[1;32m   1251\u001b[0m           \u001b[38;5;28mself\u001b[39m\u001b[38;5;241m.\u001b[39m\u001b[38;5;18m__class__\u001b[39m)\n\u001b[0;32m-> 1252\u001b[0m     \u001b[38;5;28;01mreturn\u001b[39;00m \u001b[38;5;28;43mself\u001b[39;49m\u001b[38;5;241;43m.\u001b[39;49m\u001b[43mread\u001b[49m\u001b[43m(\u001b[49m\u001b[43mnbytes\u001b[49m\u001b[43m,\u001b[49m\u001b[43m \u001b[49m\u001b[43mbuffer\u001b[49m\u001b[43m)\u001b[49m\n\u001b[1;32m   1253\u001b[0m \u001b[38;5;28;01melse\u001b[39;00m:\n\u001b[1;32m   1254\u001b[0m     \u001b[38;5;28;01mreturn\u001b[39;00m \u001b[38;5;28msuper\u001b[39m()\u001b[38;5;241m.\u001b[39mrecv_into(buffer, nbytes, flags)\n",
      "File \u001b[0;32m/Library/Frameworks/Python.framework/Versions/3.12/lib/python3.12/ssl.py:1104\u001b[0m, in \u001b[0;36mSSLSocket.read\u001b[0;34m(self, len, buffer)\u001b[0m\n\u001b[1;32m   1102\u001b[0m \u001b[38;5;28;01mtry\u001b[39;00m:\n\u001b[1;32m   1103\u001b[0m     \u001b[38;5;28;01mif\u001b[39;00m buffer \u001b[38;5;129;01mis\u001b[39;00m \u001b[38;5;129;01mnot\u001b[39;00m \u001b[38;5;28;01mNone\u001b[39;00m:\n\u001b[0;32m-> 1104\u001b[0m         \u001b[38;5;28;01mreturn\u001b[39;00m \u001b[38;5;28;43mself\u001b[39;49m\u001b[38;5;241;43m.\u001b[39;49m\u001b[43m_sslobj\u001b[49m\u001b[38;5;241;43m.\u001b[39;49m\u001b[43mread\u001b[49m\u001b[43m(\u001b[49m\u001b[38;5;28;43mlen\u001b[39;49m\u001b[43m,\u001b[49m\u001b[43m \u001b[49m\u001b[43mbuffer\u001b[49m\u001b[43m)\u001b[49m\n\u001b[1;32m   1105\u001b[0m     \u001b[38;5;28;01melse\u001b[39;00m:\n\u001b[1;32m   1106\u001b[0m         \u001b[38;5;28;01mreturn\u001b[39;00m \u001b[38;5;28mself\u001b[39m\u001b[38;5;241m.\u001b[39m_sslobj\u001b[38;5;241m.\u001b[39mread(\u001b[38;5;28mlen\u001b[39m)\n",
      "\u001b[0;31mKeyboardInterrupt\u001b[0m: "
     ]
    }
   ],
   "source": [
    "while True:\n",
    "\n",
    "    print(\"start loop\")\n",
    "\n",
    "    for event in client.bots.stream_incoming_events():\n",
    "        # print(event)\n",
    "\n",
    "        if event['type'] == 'challenge':\n",
    "            print(\"challenge_incoming\")\n",
    "            challenge_id = event['challenge']['id']\n",
    "            client.bots.accept_challenge(challenge_id)\n",
    "\n",
    "            # print(\"challenge_accepted\")\n",
    "            # print(event['challenge']['id'])\n",
    "            thread = threading.Thread(target=play_game, args=(f\"{event['challenge']['id']}\", ))\n",
    "            thread.start()\n",
    "\n",
    "\n",
    "\n",
    "\n",
    "\n",
    "    time.sleep(1)"
   ]
  },
  {
   "cell_type": "code",
   "execution_count": null,
   "metadata": {},
   "outputs": [],
   "source": []
  }
 ],
 "metadata": {
  "kernelspec": {
   "display_name": "venv",
   "language": "python",
   "name": "python3"
  },
  "language_info": {
   "codemirror_mode": {
    "name": "ipython",
    "version": 3
   },
   "file_extension": ".py",
   "mimetype": "text/x-python",
   "name": "python",
   "nbconvert_exporter": "python",
   "pygments_lexer": "ipython3",
   "version": "3.12.8"
  }
 },
 "nbformat": 4,
 "nbformat_minor": 2
}
