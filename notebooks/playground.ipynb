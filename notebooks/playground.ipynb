{
 "cells": [
  {
   "cell_type": "code",
   "execution_count": 9,
   "metadata": {},
   "outputs": [],
   "source": [
    "import chess\n",
    "import chess.pgn\n",
    "import torch.nn as nn\n",
    "from transformers import GPT2Config, GPT2Model\n",
    "import torch"
   ]
  },
  {
   "cell_type": "code",
   "execution_count": 3,
   "metadata": {},
   "outputs": [
    {
     "name": "stdout",
     "output_type": "stream",
     "text": [
      "Number of games: 16573\n"
     ]
    }
   ],
   "source": [
    "pgn_file = open(\"../data/trainingbig.pgn\")\n",
    "game_count = 0\n",
    "\n",
    "while True:\n",
    "    game = chess.pgn.read_game(pgn_file)\n",
    "    if game is None:\n",
    "        break\n",
    "    game_count += 1\n",
    "\n",
    "pgn_file.close()\n",
    "print(f\"Number of games: {game_count}\")"
   ]
  },
  {
   "cell_type": "code",
   "execution_count": 22,
   "metadata": {},
   "outputs": [
    {
     "data": {
      "text/plain": [
       "4096"
      ]
     },
     "execution_count": 22,
     "metadata": {},
     "output_type": "execute_result"
    }
   ],
   "source": [
    "64 * 64"
   ]
  },
  {
   "cell_type": "code",
   "execution_count": 25,
   "metadata": {},
   "outputs": [
    {
     "data": {
      "text/plain": [
       "28.325888"
      ]
     },
     "execution_count": 25,
     "metadata": {},
     "output_type": "execute_result"
    }
   ],
   "source": [
    "# Define a custom GPT2 configuration\n",
    "custom_config = GPT2Config(\n",
    "    vocab_size=1970,\n",
    "    n_positions=4096,\n",
    "    n_embd=512,\n",
    "    n_layer=8,\n",
    "    n_head=8,\n",
    ")\n",
    "\n",
    "# self.config = GPT2Config(vocab_size=vocab_size, n_positions=seq_len, n_embd=hidden_size, n_layer=n_layer, n_head=n_head)\n",
    "\n",
    "# Create a GPT-2 model with the custom configuration\n",
    "model = GPT2Model(custom_config)\n",
    "\n",
    "\n",
    "sum(map(torch.numel, model.parameters())) / 1_000_000"
   ]
  },
  {
   "cell_type": "code",
   "execution_count": null,
   "metadata": {},
   "outputs": [],
   "source": []
  }
 ],
 "metadata": {
  "kernelspec": {
   "display_name": "venv",
   "language": "python",
   "name": "python3"
  },
  "language_info": {
   "codemirror_mode": {
    "name": "ipython",
    "version": 3
   },
   "file_extension": ".py",
   "mimetype": "text/x-python",
   "name": "python",
   "nbconvert_exporter": "python",
   "pygments_lexer": "ipython3",
   "version": "3.12.8"
  }
 },
 "nbformat": 4,
 "nbformat_minor": 2
}
