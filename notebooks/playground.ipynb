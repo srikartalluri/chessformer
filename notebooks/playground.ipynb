{
 "cells": [
  {
   "cell_type": "code",
   "execution_count": 1,
   "metadata": {},
   "outputs": [],
   "source": [
    "import torch\n",
    "import numpy as np\n",
    "import chess\n",
    "import chess.pgn\n",
    "from tokenizer import ChessTokenizer\n",
    "from torch.utils.data import DataLoader\n",
    "from engine import Engine\n",
    "from transformers import GPT2Config\n"
   ]
  },
  {
   "cell_type": "code",
   "execution_count": 2,
   "metadata": {},
   "outputs": [],
   "source": [
    "tok = ChessTokenizer()"
   ]
  },
  {
   "cell_type": "code",
   "execution_count": 3,
   "metadata": {},
   "outputs": [],
   "source": [
    "hidden_size = 512\n",
    "seq_len = 256\n",
    "n_layer = 12\n",
    "n_head = 8\n",
    "vocab_size = tok.vocabulary_size() #1971\n",
    "config = GPT2Config(vocab_size=vocab_size, n_positions=seq_len, n_ctx=seq_len, n_embd=hidden_size, n_layer=n_layer, n_head=n_head)\n",
    "\n",
    "engine = Engine(\"./modelv1.pth\", config)\n"
   ]
  },
  {
   "cell_type": "code",
   "execution_count": 30,
   "metadata": {},
   "outputs": [
    {
     "name": "stdout",
     "output_type": "stream",
     "text": [
      "(0.16102743, 833, 'd4d5')\n",
      "(0.09991958, 1809, 'h2h3')\n",
      "(0.09634219, 532, 'c3c4')\n",
      "(0.07406014, 467, 'c1d1')\n",
      "(0.06384123, 457, 'c1b1')\n",
      "(0.056281775, 806, 'd3e4')\n",
      "(0.048456483, 473, 'c1f1')\n",
      "(0.045717303, 2, 'a1a2')\n",
      "(0.044331193, 470, 'c1e1')\n",
      "(0.044258248, 812, 'd3f5')\n"
     ]
    }
   ],
   "source": [
    "move_l = [\n",
    "    'g1f3',\n",
    "    \"d7d5\",\n",
    "    \"d2d4\",\n",
    "    \"e7e6\",\n",
    "    'c1f4',\n",
    "    \"f8d6\",\n",
    "    \"e2e3\",\n",
    "    \"g8e7\",\n",
    "    \"f1d3\",\n",
    "    \"b8d7\",\n",
    "    'b1d2',\n",
    "    \"d6f4\",\n",
    "    'e3f4',\n",
    "    'e8g8',\n",
    "    \"e1g1\",\n",
    "    \"d7f6\",\n",
    "    \"d1e2\",\n",
    "    \"e7f5\",\n",
    "    \"g2g4\",\n",
    "    \"f5d6\",\n",
    "    \"a2a3\",\n",
    "    \"f6g4\",\n",
    "    \"d2b3\",\n",
    "    \"c7c6\",\n",
    "    \"c2c3\",\n",
    "    \"g4f6\",\n",
    "    \"d3c2\",\n",
    "    \"a7a5\",\n",
    "    \"f1e1\",\n",
    "    \"a5a4\",\n",
    "    \"e2d3\",\n",
    "    \"f6e4\",\n",
    "    \"d3e4\",\n",
    "    \"d5e4\",\n",
    "    \"b3c5\",\n",
    "    \"e4f3\",\n",
    "    \"c2d3\",\n",
    "    \"g7g6\",\n",
    "    \"e1c1\",\n",
    "    \"h7h5\",\n",
    "    \"c5e4\",\n",
    "    \"d6f5\",\n",
    "    \"e4d6\",\n",
    "    \"d8d6\",\n",
    "    \"d4d5\",\n",
    "    \"e6d5\",\n",
    "    \n",
    "\n",
    "\n",
    "\n",
    "\n",
    "\n",
    "\n",
    "\n",
    "]\n",
    "\n",
    "engine.get_next_move(move_l)"
   ]
  },
  {
   "cell_type": "code",
   "execution_count": 31,
   "metadata": {},
   "outputs": [
    {
     "name": "stdout",
     "output_type": "stream",
     "text": [
      "Number of chess games: 1066\n"
     ]
    }
   ],
   "source": [
    "pgn_file = \"./data/trainingmedium.pgn\"\n",
    "game_count = 0\n",
    "\n",
    "with open(pgn_file) as f:\n",
    "    while True:\n",
    "        game = chess.pgn.read_game(f)\n",
    "        if game is None:\n",
    "            break\n",
    "        game_count += 1\n",
    "\n",
    "print(f\"Number of chess games: {game_count}\")"
   ]
  },
  {
   "cell_type": "code",
   "execution_count": null,
   "metadata": {},
   "outputs": [],
   "source": []
  }
 ],
 "metadata": {
  "kernelspec": {
   "display_name": "Python 3",
   "language": "python",
   "name": "python3"
  },
  "language_info": {
   "codemirror_mode": {
    "name": "ipython",
    "version": 3
   },
   "file_extension": ".py",
   "mimetype": "text/x-python",
   "name": "python",
   "nbconvert_exporter": "python",
   "pygments_lexer": "ipython3",
   "version": "3.12.3"
  }
 },
 "nbformat": 4,
 "nbformat_minor": 2
}
