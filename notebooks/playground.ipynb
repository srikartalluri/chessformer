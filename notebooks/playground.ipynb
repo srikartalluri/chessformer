{
 "cells": [
  {
   "cell_type": "code",
   "execution_count": null,
   "metadata": {},
   "outputs": [],
   "source": [
    "import chess\n",
    "import chess.pgn\n",
    "import torch.nn as nn\n",
    "from transformers import GPT2Config, GPT2Model, GPT2\n",
    "import torch\n",
    "import numpy as np"
   ]
  },
  {
   "cell_type": "code",
   "execution_count": 3,
   "metadata": {},
   "outputs": [
    {
     "name": "stdout",
     "output_type": "stream",
     "text": [
      "Number of games: 16573\n"
     ]
    }
   ],
   "source": [
    "pgn_file = open(\"../data/trainingbig.pgn\")\n",
    "game_count = 0\n",
    "\n",
    "while True:\n",
    "    game = chess.pgn.read_game(pgn_file)\n",
    "    if game is None:\n",
    "        break\n",
    "    game_count += 1\n",
    "\n",
    "pgn_file.close()\n",
    "print(f\"Number of games: {game_count}\")"
   ]
  },
  {
   "cell_type": "code",
   "execution_count": 7,
   "metadata": {},
   "outputs": [
    {
     "name": "stdout",
     "output_type": "stream",
     "text": [
      "Maximum game length: 600\n",
      "75th percentile game length: 101.0\n",
      "50th percentile (median) game length: 72.0\n",
      "25th percentile game length: 50.0\n",
      "Minimum game length: 0\n"
     ]
    }
   ],
   "source": [
    "# Open the PGN file\n",
    "pgn_file = open(\"../data/trainingbig.pgn\")\n",
    "game_lengths = []\n",
    "\n",
    "# Read the games and calculate their lengths\n",
    "while True:\n",
    "    game = chess.pgn.read_game(pgn_file)\n",
    "    if game is None:\n",
    "        break\n",
    "    game_lengths.append(len(list(game.mainline_moves())))\n",
    "\n",
    "pgn_file.close()\n",
    "\n",
    "# Calculate the distribution of game lengths\n",
    "game_lengths = np.array(game_lengths)\n",
    "max_length = np.max(game_lengths)\n",
    "min_length = np.min(game_lengths)\n",
    "percentiles = np.percentile(game_lengths, [75, 50, 25])\n",
    "\n",
    "print(f\"Maximum game length: {max_length}\")\n",
    "print(f\"75th percentile game length: {percentiles[0]}\")\n",
    "print(f\"50th percentile (median) game length: {percentiles[1]}\")\n",
    "print(f\"25th percentile game length: {percentiles[2]}\")\n",
    "print(f\"Minimum game length: {min_length}\")"
   ]
  },
  {
   "cell_type": "code",
   "execution_count": 22,
   "metadata": {},
   "outputs": [
    {
     "data": {
      "text/plain": [
       "4096"
      ]
     },
     "execution_count": 22,
     "metadata": {},
     "output_type": "execute_result"
    }
   ],
   "source": [
    "64 * 64"
   ]
  },
  {
   "cell_type": "code",
   "execution_count": 3,
   "metadata": {},
   "outputs": [
    {
     "data": {
      "text/plain": [
       "71"
      ]
     },
     "execution_count": 3,
     "metadata": {},
     "output_type": "execute_result"
    }
   ],
   "source": [
    "2 + 64 + 4 + 1"
   ]
  },
  {
   "cell_type": "code",
   "execution_count": null,
   "metadata": {},
   "outputs": [],
   "source": [
    "\"\"\"\n",
    "512, 8, 8\n",
    "768, 12, 12\n",
    "1024, 24, 16\n",
    "\"\"\""
   ]
  },
  {
   "cell_type": "code",
   "execution_count": null,
   "metadata": {},
   "outputs": [
    {
     "data": {
      "text/plain": [
       "115.70688"
      ]
     },
     "execution_count": 37,
     "metadata": {},
     "output_type": "execute_result"
    }
   ],
   "source": [
    "# Define a custom GPT2 configuration\n",
    "custom_config = GPT2Config(\n",
    "    vocab_size=1970,\n",
    "    max_position_embeddings=1024,\n",
    "    n_embd=768,\n",
    "    n_layer=16,\n",
    "    n_head=8,\n",
    ")\n",
    "\n",
    "# self.config = GPT2Config(vocab_size=vocab_size, n_positions=seq_len, n_embd=hidden_size, n_layer=n_layer, n_head=n_head)\n",
    "\n",
    "# Create a GPT-2 model with the custom configuration\n",
    "model = GPT2Model(custom_config)\n",
    "\n",
    "\n",
    "sum(map(torch.numel, model.parameters())) / 1_000_000"
   ]
  },
  {
   "cell_type": "code",
   "execution_count": 24,
   "metadata": {},
   "outputs": [
    {
     "data": {
      "text/plain": [
       "1426"
      ]
     },
     "execution_count": 24,
     "metadata": {},
     "output_type": "execute_result"
    }
   ],
   "source": [
    "713 * 2"
   ]
  },
  {
   "cell_type": "code",
   "execution_count": 51,
   "metadata": {},
   "outputs": [
    {
     "name": "stdout",
     "output_type": "stream",
     "text": [
      "1\n",
      "2\n",
      "3\n",
      "4\n",
      "5\n",
      "7\n",
      "8\n",
      "12\n"
     ]
    }
   ],
   "source": [
    "s = set([12,1,4,7,2,5,8,3,4])\n",
    "s\n",
    "\n",
    "for num in s:\n",
    "    print(num)"
   ]
  },
  {
   "cell_type": "code",
   "execution_count": null,
   "metadata": {},
   "outputs": [],
   "source": []
  }
 ],
 "metadata": {
  "kernelspec": {
   "display_name": "venv",
   "language": "python",
   "name": "python3"
  },
  "language_info": {
   "codemirror_mode": {
    "name": "ipython",
    "version": 3
   },
   "file_extension": ".py",
   "mimetype": "text/x-python",
   "name": "python",
   "nbconvert_exporter": "python",
   "pygments_lexer": "ipython3",
   "version": "3.12.8"
  }
 },
 "nbformat": 4,
 "nbformat_minor": 2
}
